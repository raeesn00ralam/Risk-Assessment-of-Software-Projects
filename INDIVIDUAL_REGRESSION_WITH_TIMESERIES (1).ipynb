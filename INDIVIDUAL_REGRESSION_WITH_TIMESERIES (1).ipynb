{
  "cells": [
    {
      "cell_type": "code",
      "execution_count": null,
      "metadata": {
        "id": "AYXlJ9iRemqp",
        "outputId": "066744d4-9a34-44e5-d079-4c1591549d01"
      },
      "outputs": [
        {
          "name": "stdout",
          "output_type": "stream",
          "text": [
            "2.3.1\n"
          ]
        }
      ],
      "source": [
        "#Importing Libraries\n",
        "#Matplotlib AND seaborn for Visualization\n",
        "#Numpy for Mathematical\n",
        "#Pandas for Excel/CSV Sheets Handling\n",
        "#Tensorflow and Sklearn for Machine Learning\n",
        "\n",
        "import matplotlib.pyplot as plt\n",
        "import math\n",
        "import numpy as np\n",
        "import pandas as pd\n",
        "import seaborn as sns\n",
        "import tensorflow as tf\n",
        "from tensorflow import keras\n",
        "from tensorflow.keras import layers\n",
        "from tensorflow.keras.layers.experimental import preprocessing\n",
        "from sklearn.preprocessing import MinMaxScaler\n",
        "from sklearn.model_selection import train_test_split\n",
        "from tensorflow.python.keras.models import Sequential\n",
        "from tensorflow.python.keras.layers import Dense\n",
        "from tensorflow.python.keras.wrappers.scikit_learn import KerasRegressor\n",
        "import sklearn.linear_model as ll\n",
        "\n",
        "np.set_printoptions(precision=3, suppress=True)\n",
        "print(tf.__version__)"
      ]
    },
    {
      "cell_type": "code",
      "execution_count": null,
      "metadata": {
        "id": "2Eo1zg7Kemqy",
        "outputId": "faac3dea-5cae-4a7f-81a4-05ddf604c98c"
      },
      "outputs": [
        {
          "name": "stdout",
          "output_type": "stream",
          "text": [
            "Index(['Complexity', 'Financial', 'Performance', 'Schedule', 'User', 'OUTPUT',\n",
            "       'Month', 'YEAR'],\n",
            "      dtype='object')\n"
          ]
        }
      ],
      "source": [
        "#Loading Dataset\n",
        "raw_dataset = pd.read_excel(\"Dataset.xlsx\", na_values='?')\n",
        "PROJECT = raw_dataset['Project']\n",
        "del raw_dataset['Project']\n",
        "column_names = raw_dataset.columns\n",
        "print(column_names)\n",
        "X_values = raw_dataset[[\"Month\",\"YEAR\"]][:]\n",
        "Complexity_y_values = raw_dataset[\"Complexity\"][:]\n",
        "Financial_y_values = raw_dataset[\"Financial\"][:]\n",
        "Performance_y_values = raw_dataset[\"Financial\"][:]\n",
        "Schedule_y_values = raw_dataset[\"Financial\"][:]\n",
        "User_y_values = raw_dataset[\"Financial\"][:]"
      ]
    },
    {
      "cell_type": "code",
      "execution_count": null,
      "metadata": {
        "id": "EV9D3186emqz",
        "outputId": "ac46ce05-dfb0-4f4a-aea4-261e1b63bdad"
      },
      "outputs": [
        {
          "data": {
            "text/html": [
              "<div>\n",
              "<style scoped>\n",
              "    .dataframe tbody tr th:only-of-type {\n",
              "        vertical-align: middle;\n",
              "    }\n",
              "\n",
              "    .dataframe tbody tr th {\n",
              "        vertical-align: top;\n",
              "    }\n",
              "\n",
              "    .dataframe thead th {\n",
              "        text-align: right;\n",
              "    }\n",
              "</style>\n",
              "<table border=\"1\" class=\"dataframe\">\n",
              "  <thead>\n",
              "    <tr style=\"text-align: right;\">\n",
              "      <th></th>\n",
              "      <th>Complexity</th>\n",
              "      <th>Financial</th>\n",
              "      <th>Performance</th>\n",
              "      <th>Schedule</th>\n",
              "      <th>User</th>\n",
              "      <th>OUTPUT</th>\n",
              "      <th>Month</th>\n",
              "      <th>YEAR</th>\n",
              "    </tr>\n",
              "  </thead>\n",
              "  <tbody>\n",
              "    <tr>\n",
              "      <th>Complexity</th>\n",
              "      <td>1.000000</td>\n",
              "      <td>0.199266</td>\n",
              "      <td>-0.175178</td>\n",
              "      <td>-0.312257</td>\n",
              "      <td>0.417459</td>\n",
              "      <td>0.373984</td>\n",
              "      <td>0.350309</td>\n",
              "      <td>NaN</td>\n",
              "    </tr>\n",
              "    <tr>\n",
              "      <th>Financial</th>\n",
              "      <td>0.199266</td>\n",
              "      <td>1.000000</td>\n",
              "      <td>-0.121596</td>\n",
              "      <td>0.666243</td>\n",
              "      <td>0.867023</td>\n",
              "      <td>0.806731</td>\n",
              "      <td>0.617986</td>\n",
              "      <td>NaN</td>\n",
              "    </tr>\n",
              "    <tr>\n",
              "      <th>Performance</th>\n",
              "      <td>-0.175178</td>\n",
              "      <td>-0.121596</td>\n",
              "      <td>1.000000</td>\n",
              "      <td>0.249430</td>\n",
              "      <td>0.129944</td>\n",
              "      <td>0.353578</td>\n",
              "      <td>-0.109896</td>\n",
              "      <td>NaN</td>\n",
              "    </tr>\n",
              "    <tr>\n",
              "      <th>Schedule</th>\n",
              "      <td>-0.312257</td>\n",
              "      <td>0.666243</td>\n",
              "      <td>0.249430</td>\n",
              "      <td>1.000000</td>\n",
              "      <td>0.572443</td>\n",
              "      <td>0.689113</td>\n",
              "      <td>0.249484</td>\n",
              "      <td>NaN</td>\n",
              "    </tr>\n",
              "    <tr>\n",
              "      <th>User</th>\n",
              "      <td>0.417459</td>\n",
              "      <td>0.867023</td>\n",
              "      <td>0.129944</td>\n",
              "      <td>0.572443</td>\n",
              "      <td>1.000000</td>\n",
              "      <td>0.930474</td>\n",
              "      <td>0.484445</td>\n",
              "      <td>NaN</td>\n",
              "    </tr>\n",
              "    <tr>\n",
              "      <th>OUTPUT</th>\n",
              "      <td>0.373984</td>\n",
              "      <td>0.806731</td>\n",
              "      <td>0.353578</td>\n",
              "      <td>0.689113</td>\n",
              "      <td>0.930474</td>\n",
              "      <td>1.000000</td>\n",
              "      <td>0.506067</td>\n",
              "      <td>NaN</td>\n",
              "    </tr>\n",
              "    <tr>\n",
              "      <th>Month</th>\n",
              "      <td>0.350309</td>\n",
              "      <td>0.617986</td>\n",
              "      <td>-0.109896</td>\n",
              "      <td>0.249484</td>\n",
              "      <td>0.484445</td>\n",
              "      <td>0.506067</td>\n",
              "      <td>1.000000</td>\n",
              "      <td>NaN</td>\n",
              "    </tr>\n",
              "    <tr>\n",
              "      <th>YEAR</th>\n",
              "      <td>NaN</td>\n",
              "      <td>NaN</td>\n",
              "      <td>NaN</td>\n",
              "      <td>NaN</td>\n",
              "      <td>NaN</td>\n",
              "      <td>NaN</td>\n",
              "      <td>NaN</td>\n",
              "      <td>NaN</td>\n",
              "    </tr>\n",
              "  </tbody>\n",
              "</table>\n",
              "</div>"
            ],
            "text/plain": [
              "             Complexity  Financial  Performance  Schedule      User    OUTPUT  \\\n",
              "Complexity     1.000000   0.199266    -0.175178 -0.312257  0.417459  0.373984   \n",
              "Financial      0.199266   1.000000    -0.121596  0.666243  0.867023  0.806731   \n",
              "Performance   -0.175178  -0.121596     1.000000  0.249430  0.129944  0.353578   \n",
              "Schedule      -0.312257   0.666243     0.249430  1.000000  0.572443  0.689113   \n",
              "User           0.417459   0.867023     0.129944  0.572443  1.000000  0.930474   \n",
              "OUTPUT         0.373984   0.806731     0.353578  0.689113  0.930474  1.000000   \n",
              "Month          0.350309   0.617986    -0.109896  0.249484  0.484445  0.506067   \n",
              "YEAR                NaN        NaN          NaN       NaN       NaN       NaN   \n",
              "\n",
              "                Month  YEAR  \n",
              "Complexity   0.350309   NaN  \n",
              "Financial    0.617986   NaN  \n",
              "Performance -0.109896   NaN  \n",
              "Schedule     0.249484   NaN  \n",
              "User         0.484445   NaN  \n",
              "OUTPUT       0.506067   NaN  \n",
              "Month        1.000000   NaN  \n",
              "YEAR              NaN   NaN  "
            ]
          },
          "execution_count": 3,
          "metadata": {},
          "output_type": "execute_result"
        }
      ],
      "source": [
        "raw_dataset.corr()"
      ]
    },
    {
      "cell_type": "code",
      "execution_count": null,
      "metadata": {
        "id": "UuIeHav_emq0",
        "outputId": "6445ed9c-48ad-407f-d5f6-f819897a8b92"
      },
      "outputs": [
        {
          "data": {
            "image/png": "[encoded data removed]",
            "text/plain": [
              "<Figure size 288x288 with 1 Axes>"
            ]
          },
          "metadata": {
            "needs_background": "light"
          },
          "output_type": "display_data"
        }
      ],
      "source": [
        "import matplotlib.pyplot as plt\n",
        "#Visualizing Correlation between Data\n",
        "plt.matshow(raw_dataset.corr())\n",
        "plt.show()"
      ]
    },
    {
      "cell_type": "code",
      "execution_count": null,
      "metadata": {
        "id": "DrvENKwHemq1"
      },
      "outputs": [],
      "source": [
        "l_complexity = ll.LinearRegression()\n",
        "history_1 = l_complexity.fit(X_values, Complexity_y_values)\n",
        "\n",
        "l_financial = ll.LinearRegression()\n",
        "history_2 = l_financial.fit(X_values, Financial_y_values)\n",
        "\n",
        "l_performance = ll.LinearRegression()\n",
        "history_3 = l_performance.fit(X_values, Performance_y_values)\n",
        "\n",
        "l_schedule = ll.LinearRegression()\n",
        "history_4 = l_schedule.fit(X_values, Schedule_y_values)\n",
        "\n",
        "l_user = ll.LinearRegression()\n",
        "history_5 = l_user.fit(X_values, User_y_values)"
      ]
    },
    {
      "cell_type": "code",
      "execution_count": null,
      "metadata": {
        "id": "BwpPmghLemq1",
        "outputId": "12eb75e5-56a1-4aa6-9b7f-678fdd5ed675"
      },
      "outputs": [
        {
          "data": {
            "image/png": "[encoded data removed]",
            "text/plain": [
              "<Figure size 432x288 with 1 Axes>"
            ]
          },
          "metadata": {
            "needs_background": "light"
          },
          "output_type": "display_data"
        }
      ],
      "source": [
        "plt.scatter(raw_dataset[\"Complexity\"].values, Complexity_y_values.values, color = \"red\")\n",
        "plt.plot(raw_dataset[\"Complexity\"].values, Complexity_y_values.values, color = \"green\")\n",
        "plt.title(\"COMPLEXITY CONTINOUS VALUES REGRESSION\")\n",
        "plt.xlabel(\"Values\")\n",
        "plt.ylabel(\"Fitted Values\")\n",
        "plt.show()"
      ]
    },
    {
      "cell_type": "code",
      "execution_count": null,
      "metadata": {
        "id": "kKm3_2a2emq2",
        "outputId": "dfa23d3e-54cc-4e3b-a1f1-f83b580bc0b1"
      },
      "outputs": [
        {
          "data": {
            "image/png": "[encoded data removed]",
            "text/plain": [
              "<Figure size 432x288 with 1 Axes>"
            ]
          },
          "metadata": {
            "needs_background": "light"
          },
          "output_type": "display_data"
        }
      ],
      "source": [
        "\n",
        "plt.scatter(raw_dataset[\"Financial\"].values, Financial_y_values.values, color = \"red\")\n",
        "plt.plot(raw_dataset[\"Financial\"].values, Financial_y_values.values, color = \"green\")\n",
        "plt.title(\"FINANCIAL CONTINOUS VALUES REGRESSION\")\n",
        "plt.xlabel(\"Values\")\n",
        "plt.ylabel(\"Fitted Values\")\n",
        "plt.show()"
      ]
    },
    {
      "cell_type": "code",
      "execution_count": null,
      "metadata": {
        "id": "ZRM1AW-Jemq4",
        "outputId": "60c53496-d2be-4c6e-c451-d46309410728"
      },
      "outputs": [
        {
          "data": {
            "image/png": "[encoded data removed]",
            "text/plain": [
              "<Figure size 432x288 with 1 Axes>"
            ]
          },
          "metadata": {
            "needs_background": "light"
          },
          "output_type": "display_data"
        }
      ],
      "source": [
        "x_train, x_test, y_train, y_test = train_test_split(X_values, Performance_y_values, test_size = 1/3)\n",
        "\n",
        "l_performance = ll.LinearRegression()\n",
        "history_3 = l_performance.fit(x_train, y_train)\n",
        "\n",
        "plt.scatter(x_train[\"Month\"].values, y_train.values, color = \"red\")\n",
        "plt.plot(x_train[\"Month\"], l_performance.predict(x_train), color = \"green\")\n",
        "plt.title(\"PERFORMANCE CONTINOUS VALUES REGRESSION\")\n",
        "plt.xlabel(\"Values\")\n",
        "plt.ylabel(\"Fitted Values\")\n",
        "plt.show()"
      ]
    },
    {
      "cell_type": "code",
      "execution_count": null,
      "metadata": {
        "id": "SvWwof8Bemq5",
        "outputId": "4c2282c2-7da1-48c3-8a4f-f84d2dd2b160"
      },
      "outputs": [
        {
          "data": {
            "image/png": "[encoded data removed]",
            "text/plain": [
              "<Figure size 432x288 with 1 Axes>"
            ]
          },
          "metadata": {
            "needs_background": "light"
          },
          "output_type": "display_data"
        }
      ],
      "source": [
        "x_train, x_test, y_train, y_test = train_test_split(X_values, Schedule_y_values, test_size = 1/3)\n",
        "\n",
        "l_performance = ll.LinearRegression()\n",
        "history_3 = l_performance.fit(x_train, y_train)\n",
        "\n",
        "plt.scatter(x_train[\"Month\"].values, y_train.values, color = \"red\")\n",
        "plt.plot(x_train[\"Month\"], l_performance.predict(x_train), color = \"green\")\n",
        "plt.xlabel(\"Values\")\n",
        "plt.ylabel(\"Fitted Values\")\n",
        "plt.show()"
      ]
    },
    {
      "cell_type": "code",
      "execution_count": null,
      "metadata": {
        "id": "6Y5OVg1Remq6",
        "outputId": "bdcd6160-6023-4819-e0b4-2edf4d271d39"
      },
      "outputs": [
        {
          "data": {
            "image/png": "[encoded data removed]",
            "text/plain": [
              "<Figure size 432x288 with 1 Axes>"
            ]
          },
          "metadata": {
            "needs_background": "light"
          },
          "output_type": "display_data"
        }
      ],
      "source": [
        "x_train, x_test, y_train, y_test = train_test_split(X_values, User_y_values, test_size = 1/3)\n",
        "\n",
        "l_performance = ll.LinearRegression()\n",
        "history_3 = l_performance.fit(x_train, y_train)\n",
        "\n",
        "plt.scatter(x_train[\"Month\"].values, y_train.values, color = \"red\")\n",
        "plt.plot(x_train[\"Month\"], l_performance.predict(x_train), color = \"green\")\n",
        "plt.title(\"USER CONTINOUS VALUES REGRESSION\")\n",
        "plt.xlabel(\"Values\")\n",
        "plt.ylabel(\"Fitted Values\")\n",
        "plt.show()"
      ]
    },
    {
      "cell_type": "code",
      "execution_count": null,
      "metadata": {
        "id": "oB7I45Yvemq6"
      },
      "outputs": [],
      "source": [
        "def Predict_Complexity(datetime_list):\n",
        "    X_test = datetime_list\n",
        "    X_test = pd.DataFrame(X_test, columns=['Month', 'Year'])\n",
        "    y_test = l_complexity.predict(X_test)\n",
        "    return y_test"
      ]
    },
    {
      "cell_type": "code",
      "execution_count": null,
      "metadata": {
        "id": "6Y99bN_wemq7"
      },
      "outputs": [],
      "source": [
        "def Predict_Financial(datetime_list):\n",
        "    X_test = datetime_list\n",
        "    X_test = pd.DataFrame(X_test, columns=['Month', 'Year'])\n",
        "    y_test = l_financial.predict(X_test)\n",
        "    return y_test"
      ]
    },
    {
      "cell_type": "code",
      "execution_count": null,
      "metadata": {
        "id": "t5ch_Z1Iemq7"
      },
      "outputs": [],
      "source": [
        "def Predict_Performance(datetime_list):\n",
        "    X_test = datetime_list\n",
        "    X_test = pd.DataFrame(X_test, columns=['Month', 'Year'])\n",
        "    y_test = l_performance.predict(X_test)\n",
        "    return y_test"
      ]
    },
    {
      "cell_type": "code",
      "execution_count": null,
      "metadata": {
        "id": "iSaKdWzVemq7"
      },
      "outputs": [],
      "source": [
        "def Predict_Schedule(datetime_list):\n",
        "    X_test = datetime_list\n",
        "    X_test = pd.DataFrame(X_test, columns=['Month', 'Year'])\n",
        "    y_test = l_schedule.predict(X_test)\n",
        "    return y_test"
      ]
    },
    {
      "cell_type": "code",
      "execution_count": null,
      "metadata": {
        "id": "dx4AQWRMemq8"
      },
      "outputs": [],
      "source": [
        "def Predict_User(datetime_list):\n",
        "    X_test = datetime_list\n",
        "    X_test = pd.DataFrame(X_test, columns=['Month', 'Year'])\n",
        "    y_test = l_user.predict(X_test)\n",
        "    return y_test"
      ]
    },
    {
      "cell_type": "code",
      "execution_count": null,
      "metadata": {
        "id": "L8w5A5ELemq8",
        "outputId": "7ac0f3eb-035e-465d-f0e2-4c30d053f902"
      },
      "outputs": [
        {
          "data": {
            "text/plain": [
              "[[3, 2019],\n",
              " [11, 2018],\n",
              " [2, 2019],\n",
              " [3, 2020],\n",
              " [5, 2018],\n",
              " [12, 2018],\n",
              " [4, 2018],\n",
              " [6, 2019],\n",
              " [5, 2019],\n",
              " [12, 2018]]"
            ]
          },
          "execution_count": 17,
          "metadata": {},
          "output_type": "execute_result"
        }
      ],
      "source": [
        "import random\n",
        "#Random Values Generator for Calculating 10 Projects\n",
        "Upcomming_Random_Projects = []\n",
        "for i in range(10):\n",
        "    Upcomming_Random_Projects.append([random.randint(1,12),random.randint(2018,2020)])\n",
        "\n",
        "Upcomming_Random_Projects"
      ]
    },
    {
      "cell_type": "code",
      "execution_count": null,
      "metadata": {
        "id": "a53QNphUemq8",
        "outputId": "f1ce0c89-b611-4c1f-93a9-cc6c4c44631d"
      },
      "outputs": [
        {
          "name": "stdout",
          "output_type": "stream",
          "text": [
            "{'Complexity': 0.04901408450704228, 'Financial': 0.030000000000000013, 'Performance': 0.017800393959290846, 'Schedule': 0.030000000000000013, 'User': 0.030000000000000013}\n",
            "{'Complexity': 0.13014084507042253, 'Financial': 0.12599999999999997, 'Performance': 0.12952724885095207, 'Schedule': 0.12599999999999997, 'User': 0.12599999999999997}\n",
            "{'Complexity': 0.03887323943661975, 'Financial': 0.018000000000000016, 'Performance': 0.0038345370978331954, 'Schedule': 0.018000000000000016, 'User': 0.018000000000000016}\n",
            "{'Complexity': 0.04901408450704228, 'Financial': 0.030000000000000013, 'Performance': 0.017800393959290846, 'Schedule': 0.030000000000000013, 'User': 0.030000000000000013}\n",
            "{'Complexity': 0.06929577464788735, 'Financial': 0.054000000000000006, 'Performance': 0.04573210768220615, 'Schedule': 0.054000000000000006, 'User': 0.054000000000000006}\n",
            "{'Complexity': 0.14028169014084507, 'Financial': 0.13799999999999998, 'Performance': 0.1434931057124097, 'Schedule': 0.13799999999999998, 'User': 0.13799999999999998}\n",
            "{'Complexity': 0.059154929577464814, 'Financial': 0.04200000000000001, 'Performance': 0.0317662508207485, 'Schedule': 0.04200000000000001, 'User': 0.04200000000000001}\n",
            "{'Complexity': 0.07943661971830987, 'Financial': 0.066, 'Performance': 0.0596979645436638, 'Schedule': 0.066, 'User': 0.066}\n",
            "{'Complexity': 0.06929577464788735, 'Financial': 0.054000000000000006, 'Performance': 0.04573210768220615, 'Schedule': 0.054000000000000006, 'User': 0.054000000000000006}\n",
            "{'Complexity': 0.14028169014084507, 'Financial': 0.13799999999999998, 'Performance': 0.1434931057124097, 'Schedule': 0.13799999999999998, 'User': 0.13799999999999998}\n"
          ]
        }
      ],
      "source": [
        "#Predicting the Values based on Month and Year, Assuming Resources are dependent on Months of Year\n",
        "NewProjects = []\n",
        "for singledate in Upcomming_Random_Projects:\n",
        "    singledata_results = {}\n",
        "    singledata_results[\"Complexity\"] = Predict_Complexity([singledate])[0]\n",
        "    singledata_results[\"Financial\"] = Predict_Financial([singledate])[0]\n",
        "    singledata_results[\"Performance\"] = Predict_Performance([singledate])[0]\n",
        "    singledata_results[\"Schedule\"] = Predict_Schedule([singledate])[0]\n",
        "    singledata_results[\"User\"] = Predict_User([singledate])[0]\n",
        "    NewProjects.append(singledata_results)\n",
        "\n",
        "for i in NewProjects:\n",
        "    print(i)\n",
        "\n",
        "\n",
        "# datetime_list = [[1, 2020]]\n",
        "# Complexity_value = Predict_Complexity(datetime_list)\n",
        "# Financial_value = Predict_Complexity(datetime_list)\n",
        "# Performance_value = Predict_Complexity(datetime_list)\n",
        "# Schedule_value = Predict_Complexity(datetime_list)\n",
        "# User_value = Predict_Complexity(datetime_list)"
      ]
    },
    {
      "cell_type": "code",
      "execution_count": null,
      "metadata": {
        "id": "9liL4ddWemq9",
        "outputId": "5e4b4cd2-5315-4056-fc8b-6c50251f92b1"
      },
      "outputs": [
        {
          "data": {
            "text/html": [
              "<div>\n",
              "<style scoped>\n",
              "    .dataframe tbody tr th:only-of-type {\n",
              "        vertical-align: middle;\n",
              "    }\n",
              "\n",
              "    .dataframe tbody tr th {\n",
              "        vertical-align: top;\n",
              "    }\n",
              "\n",
              "    .dataframe thead th {\n",
              "        text-align: right;\n",
              "    }\n",
              "</style>\n",
              "<table border=\"1\" class=\"dataframe\">\n",
              "  <thead>\n",
              "    <tr style=\"text-align: right;\">\n",
              "      <th></th>\n",
              "      <th>Month</th>\n",
              "      <th>YEAR</th>\n",
              "    </tr>\n",
              "  </thead>\n",
              "  <tbody>\n",
              "    <tr>\n",
              "      <th>0</th>\n",
              "      <td>1</td>\n",
              "      <td>2019</td>\n",
              "    </tr>\n",
              "    <tr>\n",
              "      <th>1</th>\n",
              "      <td>2</td>\n",
              "      <td>2019</td>\n",
              "    </tr>\n",
              "    <tr>\n",
              "      <th>2</th>\n",
              "      <td>4</td>\n",
              "      <td>2019</td>\n",
              "    </tr>\n",
              "    <tr>\n",
              "      <th>3</th>\n",
              "      <td>5</td>\n",
              "      <td>2019</td>\n",
              "    </tr>\n",
              "    <tr>\n",
              "      <th>4</th>\n",
              "      <td>8</td>\n",
              "      <td>2019</td>\n",
              "    </tr>\n",
              "    <tr>\n",
              "      <th>5</th>\n",
              "      <td>9</td>\n",
              "      <td>2019</td>\n",
              "    </tr>\n",
              "    <tr>\n",
              "      <th>6</th>\n",
              "      <td>3</td>\n",
              "      <td>2019</td>\n",
              "    </tr>\n",
              "    <tr>\n",
              "      <th>7</th>\n",
              "      <td>1</td>\n",
              "      <td>2019</td>\n",
              "    </tr>\n",
              "    <tr>\n",
              "      <th>8</th>\n",
              "      <td>10</td>\n",
              "      <td>2019</td>\n",
              "    </tr>\n",
              "    <tr>\n",
              "      <th>9</th>\n",
              "      <td>12</td>\n",
              "      <td>2019</td>\n",
              "    </tr>\n",
              "    <tr>\n",
              "      <th>10</th>\n",
              "      <td>11</td>\n",
              "      <td>2019</td>\n",
              "    </tr>\n",
              "    <tr>\n",
              "      <th>11</th>\n",
              "      <td>2</td>\n",
              "      <td>2019</td>\n",
              "    </tr>\n",
              "    <tr>\n",
              "      <th>12</th>\n",
              "      <td>4</td>\n",
              "      <td>2019</td>\n",
              "    </tr>\n",
              "    <tr>\n",
              "      <th>13</th>\n",
              "      <td>6</td>\n",
              "      <td>2019</td>\n",
              "    </tr>\n",
              "    <tr>\n",
              "      <th>14</th>\n",
              "      <td>5</td>\n",
              "      <td>2019</td>\n",
              "    </tr>\n",
              "    <tr>\n",
              "      <th>15</th>\n",
              "      <td>7</td>\n",
              "      <td>2019</td>\n",
              "    </tr>\n",
              "    <tr>\n",
              "      <th>16</th>\n",
              "      <td>9</td>\n",
              "      <td>2019</td>\n",
              "    </tr>\n",
              "    <tr>\n",
              "      <th>17</th>\n",
              "      <td>10</td>\n",
              "      <td>2019</td>\n",
              "    </tr>\n",
              "  </tbody>\n",
              "</table>\n",
              "</div>"
            ],
            "text/plain": [
              "    Month  YEAR\n",
              "0       1  2019\n",
              "1       2  2019\n",
              "2       4  2019\n",
              "3       5  2019\n",
              "4       8  2019\n",
              "5       9  2019\n",
              "6       3  2019\n",
              "7       1  2019\n",
              "8      10  2019\n",
              "9      12  2019\n",
              "10     11  2019\n",
              "11      2  2019\n",
              "12      4  2019\n",
              "13      6  2019\n",
              "14      5  2019\n",
              "15      7  2019\n",
              "16      9  2019\n",
              "17     10  2019"
            ]
          },
          "execution_count": 20,
          "metadata": {},
          "output_type": "execute_result"
        }
      ],
      "source": [
        "X_values"
      ]
    },
    {
      "cell_type": "code",
      "execution_count": null,
      "metadata": {
        "id": "ZsDrYsX3emq9",
        "outputId": "30f4eec8-e5fa-4411-af0d-719cabc1a9b4"
      },
      "outputs": [
        {
          "data": {
            "text/plain": [
              "array([0.  , 0.01, 0.08, 0.06, 0.42, 0.04, 0.02, 0.02, 0.24, 0.03, 0.12,\n",
              "       0.03, 0.12, 0.03, 0.03, 0.12, 0.01, 0.06])"
            ]
          },
          "execution_count": 21,
          "metadata": {},
          "output_type": "execute_result"
        }
      ],
      "source": [
        "Complexity_y_values.values"
      ]
    },
    {
      "cell_type": "code",
      "execution_count": null,
      "metadata": {
        "id": "8B5r6LePemq9"
      },
      "outputs": [],
      "source": [
        "y_pred = l_complexity.predict(x_test)"
      ]
    },
    {
      "cell_type": "code",
      "execution_count": null,
      "metadata": {
        "id": "55noFM2Remq9",
        "outputId": "aada7a2a-6abb-4740-ca66-ce369b095c22"
      },
      "outputs": [
        {
          "data": {
            "text/plain": [
              "array([0.11 , 0.039, 0.029, 0.029, 0.069, 0.1  ])"
            ]
          },
          "execution_count": 23,
          "metadata": {},
          "output_type": "execute_result"
        }
      ],
      "source": [
        "y_pred"
      ]
    },
    {
      "cell_type": "code",
      "execution_count": null,
      "metadata": {
        "id": "fkxGd66Kemq-"
      },
      "outputs": [],
      "source": []
    }
  ],
  "metadata": {
    "kernelspec": {
      "display_name": "Python 3",
      "language": "python",
      "name": "python3"
    },
    "language_info": {
      "codemirror_mode": {
        "name": "ipython",
        "version": 3
      },
      "file_extension": ".py",
      "mimetype": "text/x-python",
      "name": "python",
      "nbconvert_exporter": "python",
      "pygments_lexer": "ipython3",
      "version": "3.8.6rc1"
    },
    "colab": {
      "provenance": []
    }
  },
  "nbformat": 4,
  "nbformat_minor": 0
}